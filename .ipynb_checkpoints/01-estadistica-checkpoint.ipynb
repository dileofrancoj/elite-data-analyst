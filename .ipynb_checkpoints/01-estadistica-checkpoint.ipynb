{
 "cells": [
  {
   "cell_type": "code",
   "execution_count": 1,
   "id": "61cf248e",
   "metadata": {},
   "outputs": [],
   "source": [
    "import numpy as np\n",
    "import statistics as stats\n",
    "import seaborn as sns\n",
    "import matplotlib.pyplot as plt\n",
    "from scipy import stats as sps\n",
    "import pandas as pd\n",
    "from scipy.stats import skew, kurtosis"
   ]
  },
  {
   "cell_type": "markdown",
   "id": "b871ec61",
   "metadata": {},
   "source": [
    "# Cronograma\n",
    "\n",
    "1. Población y muestra\n",
    "2. Áreas de la estadística\n",
    "3. Tipos de datos y ariables\n",
    "4. Medidas de tendencia central\n",
    "    - Media\n",
    "    - Media ponderada\n",
    "    - Mediana\n",
    "    - Moda\n",
    "5. Medidas de dispersión\n",
    "    - Rango\n",
    "    - Varianza\n",
    "    - Desvío estándar\n",
    "\n",
    "6. Percentiles\n",
    "7. Diagramas de caja\n",
    "\n",
    "Tarea clase estadística: https://docs.google.com/document/d/1AnD0e4JO5XoZsCvcyHx4TeMW7SczyfdtCjOrT-Cr7Yw/edit?usp=sharing\n",
    "\n",
    "---\n",
    "\n",
    "## Conceptos base"
   ]
  },
  {
   "cell_type": "markdown",
   "id": "78fbb5d4",
   "metadata": {},
   "source": [
    "### 00. Población\n",
    "\n",
    "### 01. Muestra\n",
    "\n",
    "---"
   ]
  },
  {
   "cell_type": "markdown",
   "id": "faa8004b",
   "metadata": {},
   "source": [
    "### 1. Áreas de la estadística\n",
    "\n",
    "### 2. Tipos de datos\n",
    "\n",
    "### 3. Tipos de variables\n",
    "\n",
    "---"
   ]
  },
  {
   "cell_type": "markdown",
   "id": "a64d994d",
   "metadata": {},
   "source": [
    "## Medidas de tendencia central"
   ]
  },
  {
   "cell_type": "markdown",
   "id": "d08eb337",
   "metadata": {},
   "source": [
    "### 01. Media aritmética\n",
    "\n",
    "$ \\bar{x} = \\frac{\\Sigma_{i=1}^n x_i}{n}$"
   ]
  },
  {
   "cell_type": "markdown",
   "id": "b650c8cb",
   "metadata": {},
   "source": []
  },
  {
   "cell_type": "code",
   "execution_count": 2,
   "id": "444fd08e",
   "metadata": {},
   "outputs": [],
   "source": [
    "# Codigo"
   ]
  },
  {
   "cell_type": "markdown",
   "id": "d3839ec6",
   "metadata": {},
   "source": [
    "### 02. Outlier"
   ]
  },
  {
   "cell_type": "code",
   "execution_count": null,
   "id": "e6eaf34b",
   "metadata": {},
   "outputs": [],
   "source": []
  },
  {
   "cell_type": "markdown",
   "id": "53a3046c",
   "metadata": {},
   "source": [
    "### 03. Media ponderada\n",
    "\n",
    "$\\bar{x} = \\frac{\\Sigma_{i=1}^n x_i * w_i}{\\Sigma_{w_i}}$"
   ]
  },
  {
   "cell_type": "markdown",
   "id": "64048308",
   "metadata": {},
   "source": []
  },
  {
   "cell_type": "markdown",
   "id": "557d6d85",
   "metadata": {},
   "source": [
    "### 04. Mediana"
   ]
  },
  {
   "cell_type": "code",
   "execution_count": null,
   "id": "996fb655",
   "metadata": {},
   "outputs": [],
   "source": []
  },
  {
   "cell_type": "markdown",
   "id": "19d9b641",
   "metadata": {},
   "source": [
    "### 05. Moda"
   ]
  },
  {
   "cell_type": "code",
   "execution_count": null,
   "id": "6ca6903e",
   "metadata": {},
   "outputs": [],
   "source": []
  },
  {
   "cell_type": "markdown",
   "id": "387ae2b5",
   "metadata": {},
   "source": [
    "## Variabilidad y dispersión"
   ]
  },
  {
   "cell_type": "markdown",
   "id": "774b5eaf",
   "metadata": {},
   "source": [
    "### Rango"
   ]
  },
  {
   "cell_type": "markdown",
   "id": "9cefdb6a",
   "metadata": {},
   "source": [
    "### Varianza\n",
    "\n",
    "Var(X) = $\\frac{\\Sigma_{i = 1} (x_i - \\mu)^2}{n}$"
   ]
  },
  {
   "cell_type": "markdown",
   "id": "df99f9b7",
   "metadata": {},
   "source": [
    "### STD\n",
    "\n",
    "$\\sqrt(Var(x))$"
   ]
  }
 ],
 "metadata": {
  "kernelspec": {
   "display_name": "Python 3 (ipykernel)",
   "language": "python",
   "name": "python3"
  },
  "language_info": {
   "codemirror_mode": {
    "name": "ipython",
    "version": 3
   },
   "file_extension": ".py",
   "mimetype": "text/x-python",
   "name": "python",
   "nbconvert_exporter": "python",
   "pygments_lexer": "ipython3",
   "version": "3.10.11"
  }
 },
 "nbformat": 4,
 "nbformat_minor": 5
}
